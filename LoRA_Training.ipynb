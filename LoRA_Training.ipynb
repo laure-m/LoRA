{
  "nbformat": 4,
  "nbformat_minor": 0,
  "metadata": {
    "colab": {
      "provenance": [],
      "machine_shape": "hm",
      "gpuType": "T4",
      "authorship_tag": "ABX9TyNbKd+GZ/EgnhQMKbSDEP/6",
      "include_colab_link": true
    },
    "kernelspec": {
      "name": "python3",
      "display_name": "Python 3"
    },
    "language_info": {
      "name": "python"
    },
    "accelerator": "GPU"
  },
  "cells": [
    {
      "cell_type": "markdown",
      "metadata": {
        "id": "view-in-github",
        "colab_type": "text"
      },
      "source": [
        "<a href=\"https://colab.research.google.com/github/laure-m/LoRA/blob/main/LoRA_Training.ipynb\" target=\"_parent\"><img src=\"https://colab.research.google.com/assets/colab-badge.svg\" alt=\"Open In Colab\"/></a>"
      ]
    },
    {
      "cell_type": "code",
      "execution_count": null,
      "metadata": {
        "cellView": "form",
        "id": "OYI9cVFT5ElQ"
      },
      "outputs": [],
      "source": [
        "#@title <font size=\"5\" color=\"orange\">STEP 01: SETUP (upload images, print folder names) </font>\n",
        "#@markdown Begineers: Use a different `Project_folder` each time when you upload the images.\n",
        "from google.colab import drive\n",
        "drive.mount('/content/drive')\n",
        "\n",
        "Project_folder = 'LORA_Training/training/AUD' #@param {type:\"string\"}\n",
        "dataset_name = 'Plans_Studio_01' #@param {type:\"string\"}\n",
        "Number_of_epoches = 100 #@param {type:\"integer\"}\n",
        "Lora_output_path = 'LORA_Training/Lora' #@param {type:\"string\"}\n",
        "\n",
        "# construct paths\n",
        "projectPath = '/content/drive/MyDrive/' + Project_folder\n",
        "imagePath = projectPath + '/' + str(Number_of_epoches) + '_'+ dataset_name\n",
        "loraPath = '/content/drive/MyDrive/' + Lora_output_path\n",
        "\n",
        "!mkdir -p {loraPath}\n",
        "\n",
        "import os\n",
        "from google.colab import files\n",
        "import shutil\n",
        "\n",
        "if os.path.exists(imagePath):\n",
        "  print(f'Error: Folder {imagePath} already exists. Please use a different project folder or dataset names. Skip uploading.\\n')\n",
        "else:\n",
        "  !mkdir -p {imagePath}\n",
        "  uploaded = files.upload()\n",
        "  for filename in uploaded.keys():\n",
        "      dst_path = imagePath + '/' + filename\n",
        "      shutil.move(filename, dst_path)\n",
        "  print('Images uploaded successfully.\\n')\n",
        "\n",
        "# print image paths\n",
        "print(f\"Image folder to caption: {imagePath}\")\n",
        "print(f\"Lora Image folder: {projectPath}\")\n",
        "print(f\"Lora output folder: {loraPath}\")\n",
        "\n"
      ]
    },
    {
      "cell_type": "code",
      "source": [
        "#@title <font size=\"5\" color=\"orange\">STEP 02: TRAIN YOUR LoRA </font>\n",
        "#@markdown Select username and password to prevent unauthorized access.\n",
        "username = '' #@param {type:\"string\"}\n",
        "password = '' #@param {type:\"string\"}\n",
        "Clear_Log = True #@param {type:\"boolean\"}\n",
        "\n",
        "def clear():\n",
        "    from IPython.display import clear_output; return clear_output()\n",
        "\n",
        "from google.colab import drive\n",
        "drive.mount('/content/drive')\n",
        "\n",
        "\n",
        "!pip install dadaptation==3.1 diffusers[torch]==0.17.1 easygui==0.98.3 einops==0.6.0 fairscale==0.4.13 ftfy==6.1.1 gradio==3.36.1 huggingface-hub==0.14.1\n",
        "!pip install lion-pytorch==0.0.6 lycoris_lora==1.8.0.dev6 open-clip-torch==2.20.0 prodigyopt==1.0 pytorch-lightning==1.9.0 safetensors==0.3.1 timm==0.6.12\n",
        "!pip install tk==0.1.0 transformers==4.30.2 voluptuous==0.13.1 wandb==0.15.0 xformers==0.0.20 omegaconf\n",
        "\n",
        "\n",
        "# Install bitsandbytes\n",
        "!git clone -b 0.41.0 https://github.com/TimDettmers/bitsandbytes\n",
        "%cd /content/bitsandbytes\n",
        "!CUDA_VERSION=117 make cuda11x\n",
        "!python setup.py install\n",
        "\n",
        "%cd /content\n",
        "!git clone https://github.com/bmaltais/kohya_ss.git\n",
        "#!git clone https://github.com/camenduru/kohya_ss.git\n",
        "%cd kohya_ss/\n",
        "!git checkout v21.8.9\n",
        "\n",
        "if Clear_Log:\n",
        "  clear()\n",
        "\n",
        "# add pwd to python path or else blip captioning won't work\n",
        "%env PYTHONPATH=/env/python:/content/kohya_ss\n",
        "!python kohya_gui.py --headless --share --username='{username}' --password='{password}'\n",
        "\n"
      ],
      "metadata": {
        "cellView": "form",
        "id": "o_AFJx7Z5sUa"
      },
      "execution_count": null,
      "outputs": []
    }
  ]
}